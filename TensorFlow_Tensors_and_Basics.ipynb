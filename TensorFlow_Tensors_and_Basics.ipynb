{
  "nbformat": 4,
  "nbformat_minor": 0,
  "metadata": {
    "colab": {
      "provenance": [],
      "authorship_tag": "ABX9TyPLCQPcfycSHxHcsZ+/bk8L",
      "include_colab_link": true
    },
    "kernelspec": {
      "name": "python3",
      "display_name": "Python 3"
    },
    "language_info": {
      "name": "python"
    }
  },
  "cells": [
    {
      "cell_type": "markdown",
      "metadata": {
        "id": "view-in-github",
        "colab_type": "text"
      },
      "source": [
        "<a href=\"https://colab.research.google.com/github/DereAbdulhameed/Computer-Vision-Projects/blob/main/TensorFlow_Tensors_and_Basics.ipynb\" target=\"_parent\"><img src=\"https://colab.research.google.com/assets/colab-badge.svg\" alt=\"Open In Colab\"/></a>"
      ]
    },
    {
      "cell_type": "code",
      "execution_count": 1,
      "metadata": {
        "id": "G2hgFwpkpxFg"
      },
      "outputs": [],
      "source": [
        "import tensorflow as tf"
      ]
    },
    {
      "cell_type": "code",
      "source": [
        "# creating a zero-dimensional array\n",
        "tensor_zero_d = tf.constant(6)\n",
        "print(tensor_zero_d)"
      ],
      "metadata": {
        "colab": {
          "base_uri": "https://localhost:8080/"
        },
        "id": "cCkk0tOPqDsP",
        "outputId": "1b88df29-6226-4133-ee1a-c8f3f07bf534"
      },
      "execution_count": 2,
      "outputs": [
        {
          "output_type": "stream",
          "name": "stdout",
          "text": [
            "tf.Tensor(6, shape=(), dtype=int32)\n"
          ]
        }
      ]
    },
    {
      "cell_type": "code",
      "source": [
        "# creating a Tensor 1-D\n",
        "tensor_one_d = tf.constant([5, -4, 1])\n",
        "print(tensor_one_d)"
      ],
      "metadata": {
        "colab": {
          "base_uri": "https://localhost:8080/"
        },
        "id": "ChAy2rfvqhVU",
        "outputId": "a8ad48ee-1514-404f-dce8-a622ab46e76c"
      },
      "execution_count": 3,
      "outputs": [
        {
          "output_type": "stream",
          "name": "stdout",
          "text": [
            "tf.Tensor([ 5 -4  1], shape=(3,), dtype=int32)\n"
          ]
        }
      ]
    },
    {
      "cell_type": "code",
      "source": [
        "# creating a 2-D tensor\n",
        "tensor_two_d = tf.constant([\n",
        "    [2,-4,1],\n",
        "    [3,9,0],\n",
        "    [7,-4,2]\n",
        "])\n",
        "print(tensor_two_d)"
      ],
      "metadata": {
        "colab": {
          "base_uri": "https://localhost:8080/"
        },
        "id": "T4z7me6Eqzah",
        "outputId": "f3fa8efd-2e9c-499b-e101-015faac21f80"
      },
      "execution_count": 4,
      "outputs": [
        {
          "output_type": "stream",
          "name": "stdout",
          "text": [
            "tf.Tensor(\n",
            "[[ 2 -4  1]\n",
            " [ 3  9  0]\n",
            " [ 7 -4  2]], shape=(3, 3), dtype=int32)\n"
          ]
        }
      ]
    },
    {
      "cell_type": "code",
      "source": [
        "# creating a three_d constant\n",
        "tensor_three_d = tf.constant([\n",
        "\n",
        "[[1,2,3],\n",
        " [2,3,4]],\n",
        "\n",
        " [[2,5,6],\n",
        "  [6,7,8]],\n",
        "\n",
        "  [[-3,-1,-8],\n",
        "   [1,5,9]]\n",
        "])\n",
        "\n",
        "print(tensor_three_d)"
      ],
      "metadata": {
        "colab": {
          "base_uri": "https://localhost:8080/"
        },
        "id": "TWYEE7BhrS39",
        "outputId": "3d53ed11-4d46-41dd-df55-0be2efb12ac3"
      },
      "execution_count": 5,
      "outputs": [
        {
          "output_type": "stream",
          "name": "stdout",
          "text": [
            "tf.Tensor(\n",
            "[[[ 1  2  3]\n",
            "  [ 2  3  4]]\n",
            "\n",
            " [[ 2  5  6]\n",
            "  [ 6  7  8]]\n",
            "\n",
            " [[-3 -1 -8]\n",
            "  [ 1  5  9]]], shape=(3, 2, 3), dtype=int32)\n"
          ]
        }
      ]
    },
    {
      "cell_type": "code",
      "source": [
        "eye_tensor = tf.eye(\n",
        "    num_rows = 3,\n",
        "    num_columns = None,\n",
        "    batch_shape = None,\n",
        "    dtype = tf.dtypes.float32,\n",
        "    name = None\n",
        ")\n",
        "\n",
        "print(eye_tensor)"
      ],
      "metadata": {
        "colab": {
          "base_uri": "https://localhost:8080/"
        },
        "id": "2LgPgWB9sWtt",
        "outputId": "44dc45af-224b-4d36-fdb3-9f1cfa0e7b6b"
      },
      "execution_count": 6,
      "outputs": [
        {
          "output_type": "stream",
          "name": "stdout",
          "text": [
            "tf.Tensor(\n",
            "[[1. 0. 0.]\n",
            " [0. 1. 0.]\n",
            " [0. 0. 1.]], shape=(3, 3), dtype=float32)\n"
          ]
        }
      ]
    },
    {
      "cell_type": "code",
      "source": [
        "print(3 * eye_tensor)"
      ],
      "metadata": {
        "id": "0gI8iLKrxmRA",
        "colab": {
          "base_uri": "https://localhost:8080/"
        },
        "outputId": "df55746c-2568-436f-fcb9-a7a038d410c5"
      },
      "execution_count": 7,
      "outputs": [
        {
          "output_type": "stream",
          "name": "stdout",
          "text": [
            "tf.Tensor(\n",
            "[[3. 0. 0.]\n",
            " [0. 3. 0.]\n",
            " [0. 0. 3.]], shape=(3, 3), dtype=float32)\n"
          ]
        }
      ]
    },
    {
      "cell_type": "code",
      "source": [
        "# the eye method\n",
        "eye_tensor = tf.eye(\n",
        "    num_rows = 3,\n",
        "    num_columns = 5,\n",
        "    batch_shape = [3],\n",
        "    dtype = tf.dtypes.float32,\n",
        "    name = None\n",
        ")\n",
        "\n",
        "print(eye_tensor)"
      ],
      "metadata": {
        "colab": {
          "base_uri": "https://localhost:8080/"
        },
        "id": "-GoZabFdyzTw",
        "outputId": "d998ab90-b1ae-42de-c897-ffd634df8e97"
      },
      "execution_count": 8,
      "outputs": [
        {
          "output_type": "stream",
          "name": "stdout",
          "text": [
            "tf.Tensor(\n",
            "[[[1. 0. 0. 0. 0.]\n",
            "  [0. 1. 0. 0. 0.]\n",
            "  [0. 0. 1. 0. 0.]]\n",
            "\n",
            " [[1. 0. 0. 0. 0.]\n",
            "  [0. 1. 0. 0. 0.]\n",
            "  [0. 0. 1. 0. 0.]]\n",
            "\n",
            " [[1. 0. 0. 0. 0.]\n",
            "  [0. 1. 0. 0. 0.]\n",
            "  [0. 0. 1. 0. 0.]]], shape=(3, 3, 5), dtype=float32)\n"
          ]
        }
      ]
    },
    {
      "cell_type": "code",
      "source": [
        "#  the fill method\n",
        "fill_tensor = tf.fill([2,4],8)\n",
        "\n",
        "print(fill_tensor)"
      ],
      "metadata": {
        "colab": {
          "base_uri": "https://localhost:8080/"
        },
        "id": "9gl2pOpjzIot",
        "outputId": "42c19c02-3de8-4f72-efd8-577d9adb6555"
      },
      "execution_count": 9,
      "outputs": [
        {
          "output_type": "stream",
          "name": "stdout",
          "text": [
            "tf.Tensor(\n",
            "[[8 8 8 8]\n",
            " [8 8 8 8]], shape=(2, 4), dtype=int32)\n"
          ]
        }
      ]
    },
    {
      "cell_type": "code",
      "source": [
        "# the ones_like method\n",
        "ones_like_tensor = tf.ones_like(fill_tensor)\n",
        "print(ones_like_tensor)"
      ],
      "metadata": {
        "colab": {
          "base_uri": "https://localhost:8080/"
        },
        "id": "mU_4sQK_0CDQ",
        "outputId": "2ebe5a13-328d-4e45-9e22-4d9f7e6ecc91"
      },
      "execution_count": 10,
      "outputs": [
        {
          "output_type": "stream",
          "name": "stdout",
          "text": [
            "tf.Tensor(\n",
            "[[1 1 1 1]\n",
            " [1 1 1 1]], shape=(2, 4), dtype=int32)\n"
          ]
        }
      ]
    },
    {
      "cell_type": "markdown",
      "source": [
        "### INDEXING\n"
      ],
      "metadata": {
        "id": "Yx5liKEicl0a"
      }
    },
    {
      "cell_type": "code",
      "source": [
        "indexed_tensor = tf.constant([2,5,7,8,4])\n",
        "print(indexed_tensor)"
      ],
      "metadata": {
        "id": "zwppA1SmYP0L",
        "colab": {
          "base_uri": "https://localhost:8080/"
        },
        "outputId": "fdd5ba41-2664-4b10-fac0-53a5a8a294aa"
      },
      "execution_count": 11,
      "outputs": [
        {
          "output_type": "stream",
          "name": "stdout",
          "text": [
            "tf.Tensor([2 5 7 8 4], shape=(5,), dtype=int32)\n"
          ]
        }
      ]
    },
    {
      "cell_type": "code",
      "source": [
        "#To index the first 4 elements\n",
        "print(indexed_tensor[0:4])"
      ],
      "metadata": {
        "colab": {
          "base_uri": "https://localhost:8080/"
        },
        "id": "kHRIi8Atc3g4",
        "outputId": "b25f8b63-c1e6-410b-ba97-a95082533693"
      },
      "execution_count": 12,
      "outputs": [
        {
          "output_type": "stream",
          "name": "stdout",
          "text": [
            "tf.Tensor([2 5 7 8], shape=(4,), dtype=int32)\n"
          ]
        }
      ]
    },
    {
      "cell_type": "code",
      "source": [
        "# indexing a 2-D tensor\n",
        "tensor_two_d = tf.constant([\n",
        "    [2,-4,1],\n",
        "    [-3,9,0],\n",
        "    [7,-4,2],\n",
        "    [4,6,-8]\n",
        "])\n",
        "print(tensor_two_d[0:3,:])\n",
        "print(tensor_two_d[2,:])\n",
        "print(tensor_two_d[3,-1])"
      ],
      "metadata": {
        "colab": {
          "base_uri": "https://localhost:8080/"
        },
        "id": "klrkA6LQdHeK",
        "outputId": "64d72b43-3008-46d6-dba0-8e8efa9026fb"
      },
      "execution_count": 13,
      "outputs": [
        {
          "output_type": "stream",
          "name": "stdout",
          "text": [
            "tf.Tensor(\n",
            "[[ 2 -4  1]\n",
            " [-3  9  0]\n",
            " [ 7 -4  2]], shape=(3, 3), dtype=int32)\n",
            "tf.Tensor([ 7 -4  2], shape=(3,), dtype=int32)\n",
            "tf.Tensor(-8, shape=(), dtype=int32)\n"
          ]
        }
      ]
    },
    {
      "cell_type": "code",
      "source": [
        "# indexing a three_d constant\n",
        "tensor_three_d = tf.constant([\n",
        "\n",
        "   [[1,2,3],\n",
        "   [2,3,4]],\n",
        "\n",
        "   [[2,5,6],\n",
        "   [6,7,8]],\n",
        "\n",
        "   [[-3,-1,-8],\n",
        "   [1,5,9]]\n",
        "])\n",
        "\n",
        "print(tensor_three_d)\n",
        "print(tensor_three_d[1 , 0 , : ])\n",
        "print(tensor_three_d[0:2, :, 1])"
      ],
      "metadata": {
        "colab": {
          "base_uri": "https://localhost:8080/"
        },
        "id": "hR96HjM-hZzN",
        "outputId": "fe8dbb2b-3428-42bc-885f-31a8873f4af3"
      },
      "execution_count": 14,
      "outputs": [
        {
          "output_type": "stream",
          "name": "stdout",
          "text": [
            "tf.Tensor(\n",
            "[[[ 1  2  3]\n",
            "  [ 2  3  4]]\n",
            "\n",
            " [[ 2  5  6]\n",
            "  [ 6  7  8]]\n",
            "\n",
            " [[-3 -1 -8]\n",
            "  [ 1  5  9]]], shape=(3, 2, 3), dtype=int32)\n",
            "tf.Tensor([2 5 6], shape=(3,), dtype=int32)\n",
            "tf.Tensor(\n",
            "[[2 3]\n",
            " [5 7]], shape=(2, 2), dtype=int32)\n"
          ]
        }
      ]
    },
    {
      "cell_type": "markdown",
      "source": [],
      "metadata": {
        "id": "8UukMB2ucdfp"
      }
    },
    {
      "cell_type": "code",
      "source": [],
      "metadata": {
        "id": "U7CYHTTbj6GD"
      },
      "execution_count": 14,
      "outputs": []
    },
    {
      "cell_type": "markdown",
      "source": [
        "Maths Function"
      ],
      "metadata": {
        "id": "2ueGcxrmnSLu"
      }
    },
    {
      "cell_type": "code",
      "source": [
        "''' 1. Absolute Function\n",
        "    2. Add Function\n",
        "    3. Multiply\n",
        "\n",
        "\n",
        "\n",
        "'''"
      ],
      "metadata": {
        "colab": {
          "base_uri": "https://localhost:8080/",
          "height": 36
        },
        "id": "rx6DnsnZnVxh",
        "outputId": "62f7f760-d199-4a94-be5c-700c805a4368"
      },
      "execution_count": 15,
      "outputs": [
        {
          "output_type": "execute_result",
          "data": {
            "text/plain": [
              "' 1. Absolute Function\\n\\n\\n\\n\\n'"
            ],
            "application/vnd.google.colaboratory.intrinsic+json": {
              "type": "string"
            }
          },
          "metadata": {},
          "execution_count": 15
        }
      ]
    },
    {
      "cell_type": "code",
      "source": [
        "#Absolute Function\n",
        "x_abs = tf.constant([-2.5,-3.4,2.0])\n",
        "print(x_abs)\n",
        "tf.abs(x_abs)"
      ],
      "metadata": {
        "colab": {
          "base_uri": "https://localhost:8080/"
        },
        "id": "YCHs2SGEn7fK",
        "outputId": "0a175a49-e4f9-4164-a5a2-6ac293670906"
      },
      "execution_count": 20,
      "outputs": [
        {
          "output_type": "stream",
          "name": "stdout",
          "text": [
            "tf.Tensor([-2.5 -3.4  2. ], shape=(3,), dtype=float32)\n"
          ]
        },
        {
          "output_type": "execute_result",
          "data": {
            "text/plain": [
              "<tf.Tensor: shape=(3,), dtype=float32, numpy=array([2.5, 3.4, 2. ], dtype=float32)>"
            ]
          },
          "metadata": {},
          "execution_count": 20
        }
      ]
    },
    {
      "cell_type": "code",
      "source": [
        "x_abs_complex = tf.constant([-2.25 + 4.75j])\n",
        "tf.abs(x_abs_complex)"
      ],
      "metadata": {
        "colab": {
          "base_uri": "https://localhost:8080/"
        },
        "id": "EwnbbE3GYQoT",
        "outputId": "3a00862c-b3a0-440e-8975-770ebc8ba0b4"
      },
      "execution_count": 22,
      "outputs": [
        {
          "output_type": "execute_result",
          "data": {
            "text/plain": [
              "<tf.Tensor: shape=(1,), dtype=float64, numpy=array([5.25594901])>"
            ]
          },
          "metadata": {},
          "execution_count": 22
        }
      ]
    },
    {
      "cell_type": "code",
      "source": [
        "tf.sqrt([(-2.25) ** 2+ 4.75 ** 2])"
      ],
      "metadata": {
        "colab": {
          "base_uri": "https://localhost:8080/"
        },
        "id": "JdoAa0rKbsf3",
        "outputId": "05edf190-0122-4aff-8306-fe7fab0adc22"
      },
      "execution_count": 24,
      "outputs": [
        {
          "output_type": "execute_result",
          "data": {
            "text/plain": [
              "<tf.Tensor: shape=(1,), dtype=float32, numpy=array([5.255949], dtype=float32)>"
            ]
          },
          "metadata": {},
          "execution_count": 24
        }
      ]
    },
    {
      "cell_type": "code",
      "source": [
        "#tf.math.divide_no_nan\n",
        "x_1 = tf.constant([5,3,6,6,4,6], dtype = tf.float32)\n",
        "x_2 = tf.constant([7,6,2,6,0,11], dtype = tf.float32)\n",
        "\n",
        "print(tf.add(x_1, x_2))\n",
        "print(tf.multiply(x_1, x_2))\n",
        "print(tf.divide(x_1, x_2)) # this will print out infinity at the 5th column, hence the divide_no_nan function\n",
        "print(tf.math.divide_no_nan(x_1, x_2))"
      ],
      "metadata": {
        "colab": {
          "base_uri": "https://localhost:8080/"
        },
        "id": "0kEf_Lm5b7rS",
        "outputId": "becf3196-a1b8-49eb-f587-327ef572d719"
      },
      "execution_count": 30,
      "outputs": [
        {
          "output_type": "stream",
          "name": "stdout",
          "text": [
            "tf.Tensor([12.  9.  8. 12.  4. 17.], shape=(6,), dtype=float32)\n",
            "tf.Tensor([35. 18. 12. 36.  0. 66.], shape=(6,), dtype=float32)\n",
            "tf.Tensor([0.71428573 0.5        3.         1.                inf 0.54545456], shape=(6,), dtype=float32)\n",
            "tf.Tensor([0.71428573 0.5        3.         1.         0.         0.54545456], shape=(6,), dtype=float32)\n"
          ]
        }
      ]
    },
    {
      "cell_type": "markdown",
      "source": [
        "RAGGED TENSOR: This sort of tensor allows the creating of matrices with different/unequal columns. i.e. a non-rectangular method"
      ],
      "metadata": {
        "id": "3XIsb8H5yjzh"
      }
    },
    {
      "cell_type": "code",
      "source": [
        "tensor_two_d = [[1,2,0],\n",
        "                [3,],\n",
        "                [3,5,6,2,1],\n",
        "                [2,3]]\n",
        "tensor_ragged = tf.ragged.constant(tensor_two_d)\n",
        "print(tensor_ragged.shape)\n",
        "print(tensor_ragged)\n"
      ],
      "metadata": {
        "colab": {
          "base_uri": "https://localhost:8080/"
        },
        "id": "c65kD89YysQG",
        "outputId": "365be276-04cc-4514-cd4a-e298bb75e639"
      },
      "execution_count": 33,
      "outputs": [
        {
          "output_type": "stream",
          "name": "stdout",
          "text": [
            "(4, None)\n",
            "<tf.RaggedTensor [[1, 2, 0], [3], [3, 5, 6, 2, 1], [2, 3]]>\n"
          ]
        }
      ]
    },
    {
      "cell_type": "code",
      "source": [
        "print(tf.RaggedTensor.from_row_splits(\n",
        "      values=[3, 1, 4, 1, 5, 9, 2, 6],\n",
        "      row_splits=[0, 4, 4, 7, 8, 8]))\n"
      ],
      "metadata": {
        "colab": {
          "base_uri": "https://localhost:8080/"
        },
        "id": "GLoJ93Wey65G",
        "outputId": "e26b170c-b47b-4c3a-f436-90341d4e2284"
      },
      "execution_count": 34,
      "outputs": [
        {
          "output_type": "stream",
          "name": "stdout",
          "text": [
            "<tf.RaggedTensor [[3, 1, 4, 1], [], [5, 9, 2], [6], []]>\n"
          ]
        }
      ]
    },
    {
      "cell_type": "markdown",
      "source": [
        "SPARSE TENSORS: This allows working with multiple zeros in the tensor"
      ],
      "metadata": {
        "id": "jdSRJpuy8lgW"
      }
    },
    {
      "cell_type": "code",
      "source": [
        "# Sparse tensors store values by index in a memory-efficient manner\n",
        "sparse_tensor = tf.sparse.SparseTensor(indices=[[0, 0], [1, 2]],\n",
        "                                       values=[1, 2],\n",
        "                                       dense_shape=[3, 4])\n",
        "print(sparse_tensor, \"\\n\")\n",
        "\n",
        "# You can convert sparse tensors to dense\n",
        "print(tf.sparse.to_dense(sparse_tensor))"
      ],
      "metadata": {
        "colab": {
          "base_uri": "https://localhost:8080/"
        },
        "id": "7MKJ2FUg9AIE",
        "outputId": "d01618af-9cc7-41b5-9aa1-1b3e91494af0"
      },
      "execution_count": 37,
      "outputs": [
        {
          "output_type": "stream",
          "name": "stdout",
          "text": [
            "SparseTensor(indices=tf.Tensor(\n",
            "[[0 0]\n",
            " [1 2]], shape=(2, 2), dtype=int64), values=tf.Tensor([1 2], shape=(2,), dtype=int32), dense_shape=tf.Tensor([3 4], shape=(2,), dtype=int64)) \n",
            "\n",
            "tf.Tensor(\n",
            "[[1 0 0 0]\n",
            " [0 0 2 0]\n",
            " [0 0 0 0]], shape=(3, 4), dtype=int32)\n"
          ]
        }
      ]
    },
    {
      "cell_type": "markdown",
      "source": [
        "STRING TENSORS"
      ],
      "metadata": {
        "id": "FuQiWOtJ9d2t"
      }
    },
    {
      "cell_type": "code",
      "source": [
        "# Tensors can be strings, too here is a scalar string.\n",
        "scalar_string_tensor = tf.constant(\"Gray wolf\")\n",
        "print(scalar_string_tensor)"
      ],
      "metadata": {
        "colab": {
          "base_uri": "https://localhost:8080/"
        },
        "id": "_tVCSTz89RFp",
        "outputId": "71f0cce5-6b6a-4f2c-efbd-db3d8673432e"
      },
      "execution_count": 38,
      "outputs": [
        {
          "output_type": "stream",
          "name": "stdout",
          "text": [
            "tf.Tensor(b'Gray wolf', shape=(), dtype=string)\n"
          ]
        }
      ]
    },
    {
      "cell_type": "code",
      "source": [
        "# If you have three string tensors of different lengths, this is OK.\n",
        "tensor_of_strings = tf.constant([\"Gray wolf\",\n",
        "                                 \"Quick brown fox\",\n",
        "                                 \"Lazy dog\"])\n",
        "# Note that the shape is (3,). The string length is not included.\n",
        "print(tensor_of_strings)"
      ],
      "metadata": {
        "colab": {
          "base_uri": "https://localhost:8080/"
        },
        "id": "jwujxIop9kQz",
        "outputId": "63e78f2a-871b-4a9c-a4f6-f1dc3c2d2563"
      },
      "execution_count": 39,
      "outputs": [
        {
          "output_type": "stream",
          "name": "stdout",
          "text": [
            "tf.Tensor([b'Gray wolf' b'Quick brown fox' b'Lazy dog'], shape=(3,), dtype=string)\n"
          ]
        }
      ]
    },
    {
      "cell_type": "code",
      "source": [],
      "metadata": {
        "id": "VAzkEc4590pD"
      },
      "execution_count": null,
      "outputs": []
    },
    {
      "cell_type": "markdown",
      "source": [],
      "metadata": {
        "id": "79MB5vd-77Si"
      }
    }
  ]
}